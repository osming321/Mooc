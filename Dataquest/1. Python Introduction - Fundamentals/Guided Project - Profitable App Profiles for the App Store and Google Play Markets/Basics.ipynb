{
 "cells": [
  {
   "cell_type": "markdown",
   "metadata": {
    "collapsed": true
   },
   "source": [
    "# Data Quest Guided Project 1 (Basic Python)"
   ]
  },
  {
   "cell_type": "markdown",
   "metadata": {},
   "source": [
    "Goal of the project:\n",
    "- to demonstrate the items learned in Data Quest - basic Python programming\n",
    "- list and loop\n",
    "- conditional statement\n",
    "- dictionaries and freq tables\n",
    "- functions"
   ]
  },
  {
   "cell_type": "markdown",
   "metadata": {
    "collapsed": true
   },
   "source": [
    "### 1.1 Open and Load Dataset\n",
    "\n",
    "- Load the csv file as list\n",
    "- Create explore dataset function to perform data exploration"
   ]
  },
  {
   "cell_type": "code",
   "execution_count": 18,
   "metadata": {
    "collapsed": false
   },
   "outputs": [
    {
     "data": {
      "text/plain": [
       "[['id',\n",
       "  'track_name',\n",
       "  'size_bytes',\n",
       "  'currency',\n",
       "  'price',\n",
       "  'rating_count_tot',\n",
       "  'rating_count_ver',\n",
       "  'user_rating',\n",
       "  'user_rating_ver',\n",
       "  'ver',\n",
       "  'cont_rating',\n",
       "  'prime_genre',\n",
       "  'sup_devices.num',\n",
       "  'ipadSc_urls.num',\n",
       "  'lang.num',\n",
       "  'vpp_lic'],\n",
       " ['284882215',\n",
       "  'Facebook',\n",
       "  '389879808',\n",
       "  'USD',\n",
       "  '0.0',\n",
       "  '2974676',\n",
       "  '212',\n",
       "  '3.5',\n",
       "  '3.5',\n",
       "  '95.0',\n",
       "  '4+',\n",
       "  'Social Networking',\n",
       "  '37',\n",
       "  '1',\n",
       "  '29',\n",
       "  '1'],\n",
       " ['389801252',\n",
       "  'Instagram',\n",
       "  '113954816',\n",
       "  'USD',\n",
       "  '0.0',\n",
       "  '2161558',\n",
       "  '1289',\n",
       "  '4.5',\n",
       "  '4.0',\n",
       "  '10.23',\n",
       "  '12+',\n",
       "  'Photo & Video',\n",
       "  '37',\n",
       "  '0',\n",
       "  '29',\n",
       "  '1']]"
      ]
     },
     "execution_count": 18,
     "metadata": {},
     "output_type": "execute_result"
    }
   ],
   "source": [
    "## Loading Apple Store file\n",
    "\n",
    "opened_file = open(\"AppleStore.csv\", encoding='utf8')\n",
    "from csv import reader\n",
    "read_file = reader(opened_file)\n",
    "appledata = list(read_file)\n",
    "appledata[:3]"
   ]
  },
  {
   "cell_type": "code",
   "execution_count": 19,
   "metadata": {
    "collapsed": false
   },
   "outputs": [],
   "source": [
    "## Loading Google Play Store file\n",
    "\n",
    "opened_file = open(\"googleplaystore.csv\")\n",
    "from csv import reader\n",
    "read_file = reader(opened_file)\n",
    "googledata = list(read_file)"
   ]
  },
  {
   "cell_type": "code",
   "execution_count": 20,
   "metadata": {
    "collapsed": false
   },
   "outputs": [],
   "source": [
    "# Create explore_data funtion to facilitate file exploration\n",
    "\n",
    "def explore_data(file,start,end,row_and_column=False):\n",
    "    dataset_slice = file[start:end]\n",
    "    for row in dataset_slice:\n",
    "        print(row)\n",
    "        print('\\n')\n",
    "        \n",
    "    if row_and_column:\n",
    "        print('Number of rows:', len(file))\n",
    "        print('Number of columns:', len(file[0]))"
   ]
  },
  {
   "cell_type": "code",
   "execution_count": 21,
   "metadata": {
    "collapsed": false
   },
   "outputs": [
    {
     "name": "stdout",
     "output_type": "stream",
     "text": [
      "['App', 'Category', 'Rating', 'Reviews', 'Size', 'Installs', 'Type', 'Price', 'Content Rating', 'Genres', 'Last Updated', 'Current Ver', 'Android Ver']\n",
      "\n",
      "\n",
      "['Photo Editor & Candy Camera & Grid & ScrapBook', 'ART_AND_DESIGN', '4.1', '159', '19M', '10,000+', 'Free', '0', 'Everyone', 'Art & Design', 'January 7, 2018', '1.0.0', '4.0.3 and up']\n",
      "\n",
      "\n",
      "['Coloring book moana', 'ART_AND_DESIGN', '3.9', '967', '14M', '500,000+', 'Free', '0', 'Everyone', 'Art & Design;Pretend Play', 'January 15, 2018', '2.0.0', '4.0.3 and up']\n",
      "\n",
      "\n",
      "Number of rows: 10842\n",
      "Number of columns: 13\n"
     ]
    }
   ],
   "source": [
    "explore_data(googledata,0,3,True)"
   ]
  },
  {
   "cell_type": "code",
   "execution_count": 22,
   "metadata": {
    "collapsed": false
   },
   "outputs": [
    {
     "name": "stdout",
     "output_type": "stream",
     "text": [
      ">>> ## Loading Apple Store file\n",
      "... \n",
      "... opened_file = open(\"AppleStore.csv\", encoding='utf8')\n",
      "... from csv import reader\n",
      "... read_file = reader(opened_file)\n",
      "... appledata = list(read_file)\n",
      "... appledata[:3]\n",
      "...\n",
      ">>> ## Loading Google Play Store file\n",
      "... \n",
      "... opened_file = open(\"googleplaystore.csv\")\n",
      "... from csv import reader\n",
      "... read_file = reader(opened_file)\n",
      "... googledata = list(read_file)\n",
      "...\n",
      ">>> # Create explore_data funtion to facilitate file exploration\n",
      "... \n",
      "... def explore_data(file,start,end,row_and_column=False):\n",
      "...     dataset_slice = file[start:end]\n",
      "...     for row in dataset_slice:\n",
      "...         print(row)\n",
      "...         print('\\n')\n",
      "...         \n",
      "...     if row_and_column:\n",
      "...         print('Number of rows:', len(file))\n",
      "...         print('Number of columns:', len(file[0]))\n",
      "...\n",
      ">>> explore_data(googledata,0,3,True)\n",
      ">>> # Checking the history of steps run\n",
      "... \n",
      "... %history -p\n",
      "...\n",
      ">>> # Checking the error data\n",
      "... # Incorrect data from the Google Play data set\n",
      "... \n",
      "... googledata[10474]\n",
      "...\n",
      ">>> del googledata[10474]\n",
      ">>> unique_applist = []\n",
      "... duplicate_applist = []\n",
      "... \n",
      "... for app in googledata[1:]:\n",
      "...     name = app[0]\n",
      "...     if name in unique_applist:\n",
      "...         duplicate_applist.append(name)\n",
      "...     else:\n",
      "...         unique_applist.append(name)\n",
      "... \n",
      "... print(\"Number of duplicate apps:\", len(duplicate_applist))\n",
      "... print(\"\\n\")\n",
      "... print(\"Example of duplicate apps:\", duplicate_applist[:15])\n",
      "...\n",
      ">>> # Print out the sample duplicate rows for checking purpose\n",
      "... \n",
      "... for app in googledata[1:]:\n",
      "...     name = app[0]\n",
      "...     if name == \"Box\":\n",
      "...         print(app)\n",
      "...\n",
      ">>> reviews_max = {}\n",
      "... for app in googledata[1:]:\n",
      "...     name = app[0]\n",
      "...     n_reviews = app[3]\n",
      "...     if name in reviews_max and reviews_max[name] < n_reviews:\n",
      "...         reviews_max[name] = n_reviews\n",
      "...     elif name not in reviews_max:\n",
      "...         reviews_max[name] = n_reviews\n",
      "...\n",
      ">>> # Checking the first 5 rows of dictionary\n",
      "... \n",
      "... list(reviews_max.items())[:5]\n",
      "...\n",
      ">>> len(reviews_max)\n",
      ">>> # Removing duplicate rows\n",
      "... android_clean = []\n",
      "... already_added = []\n",
      "... \n",
      "... for app in googledata[1:]:\n",
      "...     name = app[0]\n",
      "...     n_reviews = app[3]\n",
      "...     if (reviews_max[name] == n_reviews) and (name not in already_added):\n",
      "...         android_clean.append(app)\n",
      "...         already_added.append(name)\n",
      "...         \n",
      "... explore_data(android_clean,1,3,True)\n",
      "...\n",
      ">>> def english_check(data):\n",
      "...     for item in data:\n",
      "...         if ord(item) >127:\n",
      "...             return False\n",
      "...         else:\n",
      "...             return True\n",
      "... \n",
      "... english_check('Instagram')\n",
      "...\n",
      ">>> english_check('爱奇艺PPS -《欢乐颂2》电视剧热播')\n",
      ">>> english_check('Docs To Go™ Free Office Suite')\n",
      ">>> english_check('Instachat 😜')\n",
      ">>> ## Loading Apple Store file\n",
      "... \n",
      "... opened_file = open(\"AppleStore.csv\", encoding='utf8')\n",
      "... from csv import reader\n",
      "... read_file = reader(opened_file)\n",
      "... appledata = list(read_file)\n",
      "... appledata[:3]\n",
      "...\n",
      ">>> ## Loading Google Play Store file\n",
      "... \n",
      "... opened_file = open(\"googleplaystore.csv\")\n",
      "... from csv import reader\n",
      "... read_file = reader(opened_file)\n",
      "... googledata = list(read_file)\n",
      "...\n",
      ">>> # Create explore_data funtion to facilitate file exploration\n",
      "... \n",
      "... def explore_data(file,start,end,row_and_column=False):\n",
      "...     dataset_slice = file[start:end]\n",
      "...     for row in dataset_slice:\n",
      "...         print(row)\n",
      "...         print('\\n')\n",
      "...         \n",
      "...     if row_and_column:\n",
      "...         print('Number of rows:', len(file))\n",
      "...         print('Number of columns:', len(file[0]))\n",
      "...\n",
      ">>> explore_data(googledata,0,3,True)\n",
      ">>> # Checking the history of steps run\n",
      "... \n",
      "... %history -p\n",
      "...\n"
     ]
    }
   ],
   "source": [
    "# Checking the history of steps run\n",
    "\n",
    "%history -p"
   ]
  },
  {
   "cell_type": "markdown",
   "metadata": {},
   "source": [
    "### 1.2 Data Cleaning"
   ]
  },
  {
   "cell_type": "markdown",
   "metadata": {},
   "source": [
    "#### 1.2.1 Error Data"
   ]
  },
  {
   "cell_type": "code",
   "execution_count": 23,
   "metadata": {
    "collapsed": false
   },
   "outputs": [
    {
     "data": {
      "text/plain": [
       "['osmino Wi-Fi: free WiFi',\n",
       " 'TOOLS',\n",
       " '4.2',\n",
       " '134203',\n",
       " '4.1M',\n",
       " '10,000,000+',\n",
       " 'Free',\n",
       " '0',\n",
       " 'Everyone',\n",
       " 'Tools',\n",
       " 'August 7, 2018',\n",
       " '6.06.14',\n",
       " '4.4 and up']"
      ]
     },
     "execution_count": 23,
     "metadata": {},
     "output_type": "execute_result"
    }
   ],
   "source": [
    "# Checking the error data\n",
    "# Incorrect data from the Google Play data set\n",
    "\n",
    "googledata[10474]"
   ]
  },
  {
   "cell_type": "code",
   "execution_count": 24,
   "metadata": {
    "collapsed": true
   },
   "outputs": [],
   "source": [
    "del googledata[10474]"
   ]
  },
  {
   "cell_type": "markdown",
   "metadata": {},
   "source": [
    "#### 1.2.2 Checking Duplicates Data"
   ]
  },
  {
   "cell_type": "code",
   "execution_count": 25,
   "metadata": {
    "collapsed": false
   },
   "outputs": [
    {
     "name": "stdout",
     "output_type": "stream",
     "text": [
      "Number of duplicate apps: 1180\n",
      "\n",
      "\n",
      "Example of duplicate apps: ['Quick PDF Scanner + OCR FREE', 'Box', 'Google My Business', 'ZOOM Cloud Meetings', 'join.me - Simple Meetings', 'Box', 'Zenefits', 'Google Ads', 'Google My Business', 'Slack', 'FreshBooks Classic', 'Insightly CRM', 'QuickBooks Accounting: Invoicing & Expenses', 'HipChat - Chat Built for Teams', 'Xero Accounting Software']\n"
     ]
    }
   ],
   "source": [
    "unique_applist = []\n",
    "duplicate_applist = []\n",
    "\n",
    "for app in googledata[1:]:\n",
    "    name = app[0]\n",
    "    if name in unique_applist:\n",
    "        duplicate_applist.append(name)\n",
    "    else:\n",
    "        unique_applist.append(name)\n",
    "\n",
    "print(\"Number of duplicate apps:\", len(duplicate_applist))\n",
    "print(\"\\n\")\n",
    "print(\"Example of duplicate apps:\", duplicate_applist[:15])"
   ]
  },
  {
   "cell_type": "code",
   "execution_count": 26,
   "metadata": {
    "collapsed": false
   },
   "outputs": [
    {
     "name": "stdout",
     "output_type": "stream",
     "text": [
      "['Box', 'BUSINESS', '4.2', '159872', 'Varies with device', '10,000,000+', 'Free', '0', 'Everyone', 'Business', 'July 31, 2018', 'Varies with device', 'Varies with device']\n",
      "['Box', 'BUSINESS', '4.2', '159872', 'Varies with device', '10,000,000+', 'Free', '0', 'Everyone', 'Business', 'July 31, 2018', 'Varies with device', 'Varies with device']\n",
      "['Box', 'BUSINESS', '4.2', '159872', 'Varies with device', '10,000,000+', 'Free', '0', 'Everyone', 'Business', 'July 31, 2018', 'Varies with device', 'Varies with device']\n"
     ]
    }
   ],
   "source": [
    "# Print out the sample duplicate rows for checking purpose\n",
    "\n",
    "for app in googledata[1:]:\n",
    "    name = app[0]\n",
    "    if name == \"Box\":\n",
    "        print(app)"
   ]
  },
  {
   "cell_type": "markdown",
   "metadata": {
    "collapsed": true
   },
   "source": [
    "#### 1.2.3 Removing Duplicate Data"
   ]
  },
  {
   "cell_type": "code",
   "execution_count": 27,
   "metadata": {
    "collapsed": false
   },
   "outputs": [],
   "source": [
    "reviews_max = {}\n",
    "for app in googledata[1:]:\n",
    "    name = app[0]\n",
    "    n_reviews = app[3]\n",
    "    if name in reviews_max and reviews_max[name] < n_reviews:\n",
    "        reviews_max[name] = n_reviews\n",
    "    elif name not in reviews_max:\n",
    "        reviews_max[name] = n_reviews"
   ]
  },
  {
   "cell_type": "code",
   "execution_count": 28,
   "metadata": {
    "collapsed": false
   },
   "outputs": [
    {
     "data": {
      "text/plain": [
       "[('PokerStars Play: Free Texas Holdem Poker Game', '14989'),\n",
       " ('DX Simulation for X-aid Dx Belt', '35'),\n",
       " ('CJ Poker Odds Calculator', '207'),\n",
       " ('Life market', '30834'),\n",
       " ('HACH Cares', '0')]"
      ]
     },
     "execution_count": 28,
     "metadata": {},
     "output_type": "execute_result"
    }
   ],
   "source": [
    "# Checking the first 5 rows of dictionary\n",
    "\n",
    "list(reviews_max.items())[:5]"
   ]
  },
  {
   "cell_type": "code",
   "execution_count": 29,
   "metadata": {
    "collapsed": false
   },
   "outputs": [
    {
     "data": {
      "text/plain": [
       "9660"
      ]
     },
     "execution_count": 29,
     "metadata": {},
     "output_type": "execute_result"
    }
   ],
   "source": [
    "len(reviews_max)"
   ]
  },
  {
   "cell_type": "code",
   "execution_count": 30,
   "metadata": {
    "collapsed": false
   },
   "outputs": [
    {
     "name": "stdout",
     "output_type": "stream",
     "text": [
      "['U Launcher Lite – FREE Live Cool Themes, Hide Apps', 'ART_AND_DESIGN', '4.7', '87510', '8.7M', '5,000,000+', 'Free', '0', 'Everyone', 'Art & Design', 'August 1, 2018', '1.2.4', '4.0.3 and up']\n",
      "\n",
      "\n",
      "['Sketch - Draw & Paint', 'ART_AND_DESIGN', '4.5', '215644', '25M', '50,000,000+', 'Free', '0', 'Teen', 'Art & Design', 'June 8, 2018', 'Varies with device', '4.2 and up']\n",
      "\n",
      "\n",
      "Number of rows: 9660\n",
      "Number of columns: 13\n"
     ]
    }
   ],
   "source": [
    "# Removing duplicate rows\n",
    "android_clean = []\n",
    "already_added = []\n",
    "\n",
    "for app in googledata[1:]:\n",
    "    name = app[0]\n",
    "    n_reviews = app[3]\n",
    "    if (reviews_max[name] == n_reviews) and (name not in already_added):\n",
    "        android_clean.append(app)\n",
    "        already_added.append(name)\n",
    "        \n",
    "explore_data(android_clean,1,3,True)"
   ]
  },
  {
   "cell_type": "markdown",
   "metadata": {
    "collapsed": true
   },
   "source": [
    "#### 1.2.4 Removing Non-English app"
   ]
  },
  {
   "cell_type": "code",
   "execution_count": 41,
   "metadata": {
    "collapsed": false
   },
   "outputs": [
    {
     "data": {
      "text/plain": [
       "True"
      ]
     },
     "execution_count": 41,
     "metadata": {},
     "output_type": "execute_result"
    }
   ],
   "source": [
    "# Create function to perform English language checking\n",
    "# ord(item) more than 127 means non-English\n",
    "\n",
    "def english_check(data):\n",
    "    for item in data:\n",
    "        if ord(item) >127:\n",
    "            return False\n",
    "    return True\n",
    "\n",
    "english_check('Instagram')"
   ]
  },
  {
   "cell_type": "code",
   "execution_count": 42,
   "metadata": {
    "collapsed": false
   },
   "outputs": [
    {
     "data": {
      "text/plain": [
       "False"
      ]
     },
     "execution_count": 42,
     "metadata": {},
     "output_type": "execute_result"
    }
   ],
   "source": [
    "english_check('爱奇艺PPS -《欢乐颂2》电视剧热播')"
   ]
  },
  {
   "cell_type": "code",
   "execution_count": 43,
   "metadata": {
    "collapsed": false
   },
   "outputs": [
    {
     "data": {
      "text/plain": [
       "False"
      ]
     },
     "execution_count": 43,
     "metadata": {},
     "output_type": "execute_result"
    }
   ],
   "source": [
    "english_check('Docs To Go™ Free Office Suite')"
   ]
  },
  {
   "cell_type": "code",
   "execution_count": 44,
   "metadata": {
    "collapsed": false
   },
   "outputs": [
    {
     "data": {
      "text/plain": [
       "False"
      ]
     },
     "execution_count": 44,
     "metadata": {},
     "output_type": "execute_result"
    }
   ],
   "source": [
    "english_check('Instachat 😜')"
   ]
  },
  {
   "cell_type": "code",
   "execution_count": 56,
   "metadata": {
    "collapsed": false
   },
   "outputs": [
    {
     "data": {
      "text/plain": [
       "True"
      ]
     },
     "execution_count": 56,
     "metadata": {},
     "output_type": "execute_result"
    }
   ],
   "source": [
    "# Updated version of English check\n",
    "# Minimum 3 more than 127 characters to return False\n",
    "\n",
    "def english_check_new(data):\n",
    "    nonenglish = 0\n",
    "    for item in data:\n",
    "        if ord(item) >127:\n",
    "            nonenglish+=1\n",
    "    if nonenglish >3:\n",
    "        return False\n",
    "    else:\n",
    "        return True\n",
    "\n",
    "english_check_new('Instagram')"
   ]
  },
  {
   "cell_type": "code",
   "execution_count": 57,
   "metadata": {
    "collapsed": false
   },
   "outputs": [
    {
     "data": {
      "text/plain": [
       "False"
      ]
     },
     "execution_count": 57,
     "metadata": {},
     "output_type": "execute_result"
    }
   ],
   "source": [
    "english_check_new('爱奇艺PPS -《欢乐颂2》电视剧热播')"
   ]
  },
  {
   "cell_type": "code",
   "execution_count": 58,
   "metadata": {
    "collapsed": false
   },
   "outputs": [
    {
     "data": {
      "text/plain": [
       "True"
      ]
     },
     "execution_count": 58,
     "metadata": {},
     "output_type": "execute_result"
    }
   ],
   "source": [
    "english_check_new('Docs To Go™ Free Office Suite')"
   ]
  },
  {
   "cell_type": "code",
   "execution_count": 59,
   "metadata": {
    "collapsed": false
   },
   "outputs": [
    {
     "data": {
      "text/plain": [
       "True"
      ]
     },
     "execution_count": 59,
     "metadata": {},
     "output_type": "execute_result"
    }
   ],
   "source": [
    "english_check_new('Instachat 😜')"
   ]
  },
  {
   "cell_type": "code",
   "execution_count": 67,
   "metadata": {
    "collapsed": true
   },
   "outputs": [],
   "source": [
    "## Checking of the full dataset\n",
    "google_english = []\n",
    "apple_english = []\n",
    "\n",
    "for app in googledata[1:]:\n",
    "    name = app[0]\n",
    "    if english_check_new(name):\n",
    "        google_english.append(app)\n",
    "        \n",
    "for app in appledata[1:]:\n",
    "    name = app[0]\n",
    "    if english_check_new(name):\n",
    "        apple_english.append(app)"
   ]
  },
  {
   "cell_type": "code",
   "execution_count": 68,
   "metadata": {
    "collapsed": false
   },
   "outputs": [
    {
     "name": "stdout",
     "output_type": "stream",
     "text": [
      "['Photo Editor & Candy Camera & Grid & ScrapBook', 'ART_AND_DESIGN', '4.1', '159', '19M', '10,000+', 'Free', '0', 'Everyone', 'Art & Design', 'January 7, 2018', '1.0.0', '4.0.3 and up']\n",
      "\n",
      "\n",
      "['Coloring book moana', 'ART_AND_DESIGN', '3.9', '967', '14M', '500,000+', 'Free', '0', 'Everyone', 'Art & Design;Pretend Play', 'January 15, 2018', '2.0.0', '4.0.3 and up']\n",
      "\n",
      "\n",
      "['U Launcher Lite – FREE Live Cool Themes, Hide Apps', 'ART_AND_DESIGN', '4.7', '87510', '8.7M', '5,000,000+', 'Free', '0', 'Everyone', 'Art & Design', 'August 1, 2018', '1.2.4', '4.0.3 and up']\n",
      "\n",
      "\n",
      "Number of rows: 10795\n",
      "Number of columns: 13\n"
     ]
    }
   ],
   "source": [
    "explore_data(google_english, 0 ,3,True)"
   ]
  },
  {
   "cell_type": "code",
   "execution_count": 69,
   "metadata": {
    "collapsed": false
   },
   "outputs": [
    {
     "name": "stdout",
     "output_type": "stream",
     "text": [
      "['284882215', 'Facebook', '389879808', 'USD', '0.0', '2974676', '212', '3.5', '3.5', '95.0', '4+', 'Social Networking', '37', '1', '29', '1']\n",
      "\n",
      "\n",
      "['389801252', 'Instagram', '113954816', 'USD', '0.0', '2161558', '1289', '4.5', '4.0', '10.23', '12+', 'Photo & Video', '37', '0', '29', '1']\n",
      "\n",
      "\n",
      "['529479190', 'Clash of Clans', '116476928', 'USD', '0.0', '2130805', '579', '4.5', '4.5', '9.24.12', '9+', 'Games', '38', '5', '18', '1']\n",
      "\n",
      "\n",
      "Number of rows: 7197\n",
      "Number of columns: 16\n"
     ]
    }
   ],
   "source": [
    "explore_data(apple_english, 0 ,3,True)"
   ]
  },
  {
   "cell_type": "markdown",
   "metadata": {},
   "source": [
    "#### 1.2.5 Removing non-free app"
   ]
  },
  {
   "cell_type": "code",
   "execution_count": 90,
   "metadata": {
    "collapsed": false
   },
   "outputs": [],
   "source": [
    "google_english_free = []\n",
    "apple_english_free = []\n",
    "\n",
    "for app in google_english:\n",
    "    price = app[7]\n",
    "    if price == '0':\n",
    "        google_english_free.append(app)\n",
    "        \n",
    "for app in apple_english:\n",
    "    price = app[4]\n",
    "    if price == '0.0':\n",
    "        apple_english_free.append(app)"
   ]
  },
  {
   "cell_type": "code",
   "execution_count": 91,
   "metadata": {
    "collapsed": false
   },
   "outputs": [
    {
     "name": "stdout",
     "output_type": "stream",
     "text": [
      "['Photo Editor & Candy Camera & Grid & ScrapBook', 'ART_AND_DESIGN', '4.1', '159', '19M', '10,000+', 'Free', '0', 'Everyone', 'Art & Design', 'January 7, 2018', '1.0.0', '4.0.3 and up']\n",
      "\n",
      "\n",
      "['Coloring book moana', 'ART_AND_DESIGN', '3.9', '967', '14M', '500,000+', 'Free', '0', 'Everyone', 'Art & Design;Pretend Play', 'January 15, 2018', '2.0.0', '4.0.3 and up']\n",
      "\n",
      "\n",
      "['U Launcher Lite – FREE Live Cool Themes, Hide Apps', 'ART_AND_DESIGN', '4.7', '87510', '8.7M', '5,000,000+', 'Free', '0', 'Everyone', 'Art & Design', 'August 1, 2018', '1.2.4', '4.0.3 and up']\n",
      "\n",
      "\n",
      "Number of rows: 9998\n",
      "Number of columns: 13\n",
      "\n",
      "\n",
      "['284882215', 'Facebook', '389879808', 'USD', '0.0', '2974676', '212', '3.5', '3.5', '95.0', '4+', 'Social Networking', '37', '1', '29', '1']\n",
      "\n",
      "\n",
      "['389801252', 'Instagram', '113954816', 'USD', '0.0', '2161558', '1289', '4.5', '4.0', '10.23', '12+', 'Photo & Video', '37', '0', '29', '1']\n",
      "\n",
      "\n",
      "['529479190', 'Clash of Clans', '116476928', 'USD', '0.0', '2130805', '579', '4.5', '4.5', '9.24.12', '9+', 'Games', '38', '5', '18', '1']\n",
      "\n",
      "\n",
      "Number of rows: 4056\n",
      "Number of columns: 16\n"
     ]
    }
   ],
   "source": [
    "explore_data(google_english_free,0,3,True)\n",
    "print('\\n')\n",
    "explore_data(apple_english_free,0,3,True)"
   ]
  },
  {
   "cell_type": "markdown",
   "metadata": {},
   "source": [
    "### 1.3 Data Analysis"
   ]
  },
  {
   "cell_type": "code",
   "execution_count": 94,
   "metadata": {
    "collapsed": false
   },
   "outputs": [
    {
     "data": {
      "text/plain": [
       "[['App',\n",
       "  'Category',\n",
       "  'Rating',\n",
       "  'Reviews',\n",
       "  'Size',\n",
       "  'Installs',\n",
       "  'Type',\n",
       "  'Price',\n",
       "  'Content Rating',\n",
       "  'Genres',\n",
       "  'Last Updated',\n",
       "  'Current Ver',\n",
       "  'Android Ver']]"
      ]
     },
     "execution_count": 94,
     "metadata": {},
     "output_type": "execute_result"
    }
   ],
   "source": [
    "## Check the data column in google data\n",
    "\n",
    "googledata[:1]"
   ]
  },
  {
   "cell_type": "code",
   "execution_count": 95,
   "metadata": {
    "collapsed": false
   },
   "outputs": [
    {
     "data": {
      "text/plain": [
       "[['id',\n",
       "  'track_name',\n",
       "  'size_bytes',\n",
       "  'currency',\n",
       "  'price',\n",
       "  'rating_count_tot',\n",
       "  'rating_count_ver',\n",
       "  'user_rating',\n",
       "  'user_rating_ver',\n",
       "  'ver',\n",
       "  'cont_rating',\n",
       "  'prime_genre',\n",
       "  'sup_devices.num',\n",
       "  'ipadSc_urls.num',\n",
       "  'lang.num',\n",
       "  'vpp_lic']]"
      ]
     },
     "execution_count": 95,
     "metadata": {},
     "output_type": "execute_result"
    }
   ],
   "source": [
    "appledata[:1]"
   ]
  },
  {
   "cell_type": "code",
   "execution_count": 121,
   "metadata": {
    "collapsed": false
   },
   "outputs": [],
   "source": [
    "## Create function to generate frequency\n",
    "\n",
    "def freq_table(dataset, index):\n",
    "    table = {}\n",
    "    total = 0\n",
    "    \n",
    "    for row in dataset:\n",
    "        total += 1\n",
    "        value = row[index]\n",
    "        if value in table:\n",
    "            table[value] += 1\n",
    "        else:\n",
    "            table[value] = 1\n",
    "    \n",
    "    table_percentages = {}\n",
    "    for key in table:\n",
    "        percentage = (table[key] / total) * 100\n",
    "        table_percentages[key] = percentage \n",
    "    \n",
    "    return table_percentages\n",
    "\n",
    "\n",
    "def display_table(dataset, index):\n",
    "    table = freq_table(dataset, index)\n",
    "    table_display = []\n",
    "    for key in table:\n",
    "        key_val_as_tuple = (table[key], key)\n",
    "        table_display.append(key_val_as_tuple)\n",
    "        \n",
    "    table_sorted = sorted(table_display, reverse = True)\n",
    "    for entry in table_sorted:\n",
    "        print(entry[1], ':', entry[0])"
   ]
  },
  {
   "cell_type": "code",
   "execution_count": 122,
   "metadata": {
    "collapsed": false
   },
   "outputs": [
    {
     "name": "stdout",
     "output_type": "stream",
     "text": [
      "FAMILY : 17.67353470694139\n",
      "GAME : 10.592118423684736\n",
      "TOOLS : 7.631526305261052\n",
      "BUSINESS : 4.450890178035607\n",
      "PRODUCTIVITY : 3.9507901580316065\n",
      "SPORTS : 3.6007201440288057\n",
      "LIFESTYLE : 3.590718143628726\n",
      "COMMUNICATION : 3.590718143628726\n",
      "MEDICAL : 3.540708141628326\n",
      "FINANCE : 3.4906981396279257\n",
      "HEALTH_AND_FITNESS : 3.2506501300260053\n",
      "PHOTOGRAPHY : 3.120624124824965\n",
      "PERSONALIZATION : 3.080616123224645\n",
      "SOCIAL : 2.9205841168233646\n",
      "NEWS_AND_MAGAZINES : 2.7705541108221645\n",
      "SHOPPING : 2.570514102820564\n",
      "TRAVEL_AND_LOCAL : 2.4604920984196843\n",
      "DATING : 2.2704540908181636\n",
      "BOOKS_AND_REFERENCE : 1.990398079615923\n",
      "VIDEO_PLAYERS : 1.7003400680136025\n",
      "EDUCATION : 1.5103020604120825\n",
      "ENTERTAINMENT : 1.4702940588117623\n",
      "MAPS_AND_NAVIGATION : 1.300260052010402\n",
      "FOOD_AND_DRINK : 1.250250050010002\n",
      "HOUSE_AND_HOME : 0.8801760352070414\n",
      "LIBRARIES_AND_DEMO : 0.8401680336067214\n",
      "AUTO_AND_VEHICLES : 0.8201640328065612\n",
      "WEATHER : 0.7401480296059212\n",
      "EVENTS : 0.630126025205041\n",
      "ART_AND_DESIGN : 0.610122024404881\n",
      "COMICS : 0.590118023604721\n",
      "PARENTING : 0.580116023204641\n",
      "BEAUTY : 0.5301060212042409\n"
     ]
    }
   ],
   "source": [
    "display_table(google_english_free,1)"
   ]
  },
  {
   "cell_type": "code",
   "execution_count": 123,
   "metadata": {
    "collapsed": false
   },
   "outputs": [
    {
     "name": "stdout",
     "output_type": "stream",
     "text": [
      "Games : 55.64595660749507\n",
      "Entertainment : 8.234714003944774\n",
      "Photo & Video : 4.117357001972387\n",
      "Social Networking : 3.5256410256410255\n",
      "Education : 3.2544378698224854\n",
      "Shopping : 2.983234714003945\n",
      "Utilities : 2.687376725838264\n",
      "Lifestyle : 2.3175542406311638\n",
      "Finance : 2.0710059171597637\n",
      "Sports : 1.947731755424063\n",
      "Health & Fitness : 1.8737672583826428\n",
      "Music : 1.6518737672583828\n",
      "Book : 1.6272189349112427\n",
      "Productivity : 1.5285996055226825\n",
      "News : 1.4299802761341223\n",
      "Travel : 1.3806706114398422\n",
      "Food & Drink : 1.0601577909270217\n",
      "Weather : 0.7642998027613412\n",
      "Reference : 0.4930966469428008\n",
      "Navigation : 0.4930966469428008\n",
      "Business : 0.4930966469428008\n",
      "Catalogs : 0.22189349112426035\n",
      "Medical : 0.19723865877712032\n"
     ]
    }
   ],
   "source": [
    "display_table(apple_english_free,-5)"
   ]
  },
  {
   "cell_type": "code",
   "execution_count": 127,
   "metadata": {
    "collapsed": false
   },
   "outputs": [
    {
     "name": "stdout",
     "output_type": "stream",
     "text": [
      "100,000\n",
      "100,000plus\n"
     ]
    }
   ],
   "source": [
    "## Replace function\n",
    "\n",
    "n_installs = '100,000+'\n",
    "print(n_installs.replace('+',''))\n",
    "print(n_installs.replace('+','plus'))"
   ]
  },
  {
   "cell_type": "code",
   "execution_count": null,
   "metadata": {
    "collapsed": true
   },
   "outputs": [],
   "source": []
  }
 ],
 "metadata": {
  "kernelspec": {
   "display_name": "Python 3",
   "language": "python",
   "name": "python3"
  },
  "language_info": {
   "codemirror_mode": {
    "name": "ipython",
    "version": 3
   },
   "file_extension": ".py",
   "mimetype": "text/x-python",
   "name": "python",
   "nbconvert_exporter": "python",
   "pygments_lexer": "ipython3",
   "version": "3.4.3"
  }
 },
 "nbformat": 4,
 "nbformat_minor": 2
}
